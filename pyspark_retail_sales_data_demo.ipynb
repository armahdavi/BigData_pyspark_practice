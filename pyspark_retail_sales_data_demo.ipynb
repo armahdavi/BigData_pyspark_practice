{
  "nbformat": 4,
  "nbformat_minor": 0,
  "metadata": {
    "colab": {
      "provenance": [],
      "authorship_tag": "ABX9TyOlQYVAb4h8/EWwKOUJEcqN",
      "include_colab_link": true
    },
    "kernelspec": {
      "name": "python3",
      "display_name": "Python 3"
    },
    "language_info": {
      "name": "python"
    }
  },
  "cells": [
    {
      "cell_type": "markdown",
      "metadata": {
        "id": "view-in-github",
        "colab_type": "text"
      },
      "source": [
        "<a href=\"https://colab.research.google.com/github/armahdavi/BigData_pyspark_practice/blob/main/PySpark_retail_sales_data_demo.ipynb\" target=\"_parent\"><img src=\"https://colab.research.google.com/assets/colab-badge.svg\" alt=\"Open In Colab\"/></a>"
      ]
    },
    {
      "cell_type": "code",
      "execution_count": 1,
      "metadata": {
        "id": "PrC19qILQYV-"
      },
      "outputs": [],
      "source": [
        "import pyspark\n",
        "from pyspark.sql import SparkSession\n",
        "from pyspark.sql.functions import *\n",
        "from pyspark.ml.feature import Bucketizer"
      ]
    },
    {
      "cell_type": "code",
      "source": [
        "# Start a spark session\n",
        "spark = SparkSession.builder.appName('PySpark Demo').getOrCreate()"
      ],
      "metadata": {
        "id": "iZzmqjuDQoNw"
      },
      "execution_count": 2,
      "outputs": []
    },
    {
      "cell_type": "code",
      "source": [
        "csv_file = '/content/sample_data/retail_sales_dataset.csv'\n",
        "\n",
        "df = spark.read \\\n",
        "    .format('csv') \\\n",
        "    .option('header', 'true') \\\n",
        "    .option('inferSchema', 'true') \\\n",
        "    .load(csv_file)"
      ],
      "metadata": {
        "id": "Vzg1NekPQ5fn"
      },
      "execution_count": 3,
      "outputs": []
    },
    {
      "cell_type": "code",
      "source": [
        "df.createOrReplaceTempView('u')\n",
        "df.show()"
      ],
      "metadata": {
        "colab": {
          "base_uri": "https://localhost:8080/"
        },
        "id": "xBPAY8hLRbC_",
        "outputId": "ea18293b-3152-42a7-ed5d-6708f84bfea9"
      },
      "execution_count": 4,
      "outputs": [
        {
          "output_type": "stream",
          "name": "stdout",
          "text": [
            "+--------------+----------+-----------+------+---+----------------+--------+--------------+------------+\n",
            "|Transaction ID|      Date|Customer ID|Gender|Age|Product Category|Quantity|Price per Unit|Total Amount|\n",
            "+--------------+----------+-----------+------+---+----------------+--------+--------------+------------+\n",
            "|             1|2023-11-24|    CUST001|  Male| 34|          Beauty|       3|            50|         150|\n",
            "|             2|2023-02-27|    CUST002|Female| 26|        Clothing|       2|           500|        1000|\n",
            "|             3|2023-01-13|    CUST003|  Male| 50|     Electronics|       1|            30|          30|\n",
            "|             4|2023-05-21|    CUST004|  Male| 37|        Clothing|       1|           500|         500|\n",
            "|             5|2023-05-06|    CUST005|  Male| 30|          Beauty|       2|            50|         100|\n",
            "|             6|2023-04-25|    CUST006|Female| 45|          Beauty|       1|            30|          30|\n",
            "|             7|2023-03-13|    CUST007|  Male| 46|        Clothing|       2|            25|          50|\n",
            "|             8|2023-02-22|    CUST008|  Male| 30|     Electronics|       4|            25|         100|\n",
            "|             9|2023-12-13|    CUST009|  Male| 63|     Electronics|       2|           300|         600|\n",
            "|            10|2023-10-07|    CUST010|Female| 52|        Clothing|       4|            50|         200|\n",
            "|            11|2023-02-14|    CUST011|  Male| 23|        Clothing|       2|            50|         100|\n",
            "|            12|2023-10-30|    CUST012|  Male| 35|          Beauty|       3|            25|          75|\n",
            "|            13|2023-08-05|    CUST013|  Male| 22|     Electronics|       3|           500|        1500|\n",
            "|            14|2023-01-17|    CUST014|  Male| 64|        Clothing|       4|            30|         120|\n",
            "|            15|2023-01-16|    CUST015|Female| 42|     Electronics|       4|           500|        2000|\n",
            "|            16|2023-02-17|    CUST016|  Male| 19|        Clothing|       3|           500|        1500|\n",
            "|            17|2023-04-22|    CUST017|Female| 27|        Clothing|       4|            25|         100|\n",
            "|            18|2023-04-30|    CUST018|Female| 47|     Electronics|       2|            25|          50|\n",
            "|            19|2023-09-16|    CUST019|Female| 62|        Clothing|       2|            25|          50|\n",
            "|            20|2023-11-05|    CUST020|  Male| 22|        Clothing|       3|           300|         900|\n",
            "+--------------+----------+-----------+------+---+----------------+--------+--------------+------------+\n",
            "only showing top 20 rows\n",
            "\n"
          ]
        }
      ]
    },
    {
      "cell_type": "code",
      "source": [
        "# Find the most sold product category\n",
        "\n",
        "sales_by_cateogry = df.groupBy('Product Category').agg(sum('Quantity').alias('Total Quantity Sold'))\n",
        "sales_by_cateogry.orderBy('Total Quantity Sold', ascending = False).show()\n",
        "sales_by_cateogry.orderBy(desc('Total Quantity Sold')).show() # See the results are the same despite syntax difference"
      ],
      "metadata": {
        "colab": {
          "base_uri": "https://localhost:8080/"
        },
        "id": "RmSjOJzZVDk7",
        "outputId": "e469b65f-3cb3-4e2b-c998-b2c10831fc6d"
      },
      "execution_count": 5,
      "outputs": [
        {
          "output_type": "stream",
          "name": "stdout",
          "text": [
            "+----------------+-------------------+\n",
            "|Product Category|Total Quantity Sold|\n",
            "+----------------+-------------------+\n",
            "|        Clothing|                894|\n",
            "|     Electronics|                849|\n",
            "|          Beauty|                771|\n",
            "+----------------+-------------------+\n",
            "\n",
            "+----------------+-------------------+\n",
            "|Product Category|Total Quantity Sold|\n",
            "+----------------+-------------------+\n",
            "|        Clothing|                894|\n",
            "|     Electronics|                849|\n",
            "|          Beauty|                771|\n",
            "+----------------+-------------------+\n",
            "\n"
          ]
        }
      ]
    },
    {
      "cell_type": "code",
      "source": [
        "# Most sold category\n",
        "most_sold_category = sales_by_cateogry.orderBy('Total Quantity Sold', ascending = False).limit(1)\n",
        "most_sold_category.show()"
      ],
      "metadata": {
        "colab": {
          "base_uri": "https://localhost:8080/"
        },
        "id": "Jhi4PR6vV1v0",
        "outputId": "e1ad5544-d25f-498f-f2b3-6c0cd823c396"
      },
      "execution_count": 6,
      "outputs": [
        {
          "output_type": "stream",
          "name": "stdout",
          "text": [
            "+----------------+-------------------+\n",
            "|Product Category|Total Quantity Sold|\n",
            "+----------------+-------------------+\n",
            "|        Clothing|                894|\n",
            "+----------------+-------------------+\n",
            "\n"
          ]
        }
      ]
    },
    {
      "cell_type": "code",
      "source": [
        "# Find the most revenue generating product categories.\n",
        "rev_by_category = df.groupBy('Product Category').agg(sum('Total Amount').alias('Total Amount Generated'))\n",
        "rev_by_category.orderBy('Total Amount Generated', ascending = False).show()"
      ],
      "metadata": {
        "colab": {
          "base_uri": "https://localhost:8080/"
        },
        "id": "HNSTTmDNWKnp",
        "outputId": "f9b1df4d-9661-4887-f499-c584be984847"
      },
      "execution_count": 7,
      "outputs": [
        {
          "output_type": "stream",
          "name": "stdout",
          "text": [
            "+----------------+----------------------+\n",
            "|Product Category|Total Amount Generated|\n",
            "+----------------+----------------------+\n",
            "|     Electronics|                156905|\n",
            "|        Clothing|                155580|\n",
            "|          Beauty|                143515|\n",
            "+----------------+----------------------+\n",
            "\n"
          ]
        }
      ]
    },
    {
      "cell_type": "code",
      "source": [
        "# Find the top revenue generating product\n",
        "rev_by_category_top = df.groupBy('Product Category').agg(sum('Total Amount').alias('Total Amount Generated')).limit(1)\n",
        "rev_by_category_top.show()"
      ],
      "metadata": {
        "colab": {
          "base_uri": "https://localhost:8080/"
        },
        "id": "RKEQNKBgX247",
        "outputId": "c8723c6c-dec7-41bc-da73-bf42008be25b"
      },
      "execution_count": 8,
      "outputs": [
        {
          "output_type": "stream",
          "name": "stdout",
          "text": [
            "+----------------+----------------------+\n",
            "|Product Category|Total Amount Generated|\n",
            "+----------------+----------------------+\n",
            "|     Electronics|                156905|\n",
            "+----------------+----------------------+\n",
            "\n"
          ]
        }
      ]
    },
    {
      "cell_type": "code",
      "source": [
        "# Create the top 10 list of most values customers.\n",
        "revenue_by_customer = df.groupBy('Customer ID').agg(sum('Total Amount').alias('Total Revenue'))\n",
        "revenue_by_customer.orderBy('Total Revenue', ascending = False).show(10)\n",
        "# revenue_by_customer.show()"
      ],
      "metadata": {
        "colab": {
          "base_uri": "https://localhost:8080/"
        },
        "id": "Ljc3Q5uSYd0p",
        "outputId": "cf7a17b7-d56a-4f39-f6f9-e67d6a185ae4"
      },
      "execution_count": 9,
      "outputs": [
        {
          "output_type": "stream",
          "name": "stdout",
          "text": [
            "+-----------+-------------+\n",
            "|Customer ID|Total Revenue|\n",
            "+-----------+-------------+\n",
            "|    CUST412|         2000|\n",
            "|    CUST257|         2000|\n",
            "|    CUST093|         2000|\n",
            "|    CUST072|         2000|\n",
            "|    CUST743|         2000|\n",
            "|    CUST269|         2000|\n",
            "|    CUST476|         2000|\n",
            "|    CUST946|         2000|\n",
            "|    CUST487|         2000|\n",
            "|    CUST577|         2000|\n",
            "+-----------+-------------+\n",
            "only showing top 10 rows\n",
            "\n"
          ]
        }
      ]
    },
    {
      "cell_type": "code",
      "source": [
        "# Find which gender buys which product category the most\n",
        "gender_product_category = df.groupBy('Gender', 'Product Category').count()\n",
        "gender_product_category.show()"
      ],
      "metadata": {
        "colab": {
          "base_uri": "https://localhost:8080/"
        },
        "id": "y_zm30lpZwQS",
        "outputId": "99d47cab-8fb6-43c3-b040-16e2d2e025ed"
      },
      "execution_count": 10,
      "outputs": [
        {
          "output_type": "stream",
          "name": "stdout",
          "text": [
            "+------+----------------+-----+\n",
            "|Gender|Product Category|count|\n",
            "+------+----------------+-----+\n",
            "|  Male|        Clothing|  177|\n",
            "|Female|        Clothing|  174|\n",
            "|  Male|     Electronics|  172|\n",
            "|Female|          Beauty|  166|\n",
            "|  Male|          Beauty|  141|\n",
            "|Female|     Electronics|  170|\n",
            "+------+----------------+-----+\n",
            "\n"
          ]
        }
      ]
    },
    {
      "cell_type": "code",
      "source": [
        "# Bucketize the age\n",
        "splits = list(range(10, 71, 10))  # [10, 20, 30, 40, 50, 60]\n",
        "# splits = [float('-inf')] + splits + [float('inf')]  # Handle out-of-range values by including -inf and inf\n",
        "labels = [f'{splits[i]}-{splits[i+1]}' for i in range(len(splits) - 1)] # Adjust labels to cover all splits\n",
        "\n",
        "# Initialize the Bucketizer\n",
        "bucketizer = Bucketizer(\n",
        "    splits=splits,\n",
        "    inputCol='Age',\n",
        "    outputCol='AgeBucket'\n",
        ")\n",
        "\n",
        "# Apply the Bucketizer to the DataFrame\n",
        "bucketized_df = bucketizer.transform(df)\n",
        "\n",
        "# Define a UDF to map bucket indices to labels\n",
        "def bucket_to_label(bucket):\n",
        "    return labels[int(bucket)] if 0 <= bucket < len(labels) else 'Out of Range'\n",
        "\n",
        "# Add a new column with human-readable labels\n",
        "bucket_to_label_udf = udf(bucket_to_label, StringType())\n",
        "labeled_df = bucketized_df.withColumn('Age Category', bucket_to_label_udf(col('AgeBucket')))\n",
        "\n",
        "# Show the resulting DataFrame\n",
        "labeled_df.show()"
      ],
      "metadata": {
        "colab": {
          "base_uri": "https://localhost:8080/"
        },
        "id": "-p7tJFHOaeh_",
        "outputId": "e193332f-100e-497f-e5a5-afe235b13690"
      },
      "execution_count": 11,
      "outputs": [
        {
          "output_type": "stream",
          "name": "stdout",
          "text": [
            "+--------------+----------+-----------+------+---+----------------+--------+--------------+------------+---------+------------+\n",
            "|Transaction ID|      Date|Customer ID|Gender|Age|Product Category|Quantity|Price per Unit|Total Amount|AgeBucket|Age Category|\n",
            "+--------------+----------+-----------+------+---+----------------+--------+--------------+------------+---------+------------+\n",
            "|             1|2023-11-24|    CUST001|  Male| 34|          Beauty|       3|            50|         150|      2.0|       30-40|\n",
            "|             2|2023-02-27|    CUST002|Female| 26|        Clothing|       2|           500|        1000|      1.0|       20-30|\n",
            "|             3|2023-01-13|    CUST003|  Male| 50|     Electronics|       1|            30|          30|      4.0|       50-60|\n",
            "|             4|2023-05-21|    CUST004|  Male| 37|        Clothing|       1|           500|         500|      2.0|       30-40|\n",
            "|             5|2023-05-06|    CUST005|  Male| 30|          Beauty|       2|            50|         100|      2.0|       30-40|\n",
            "|             6|2023-04-25|    CUST006|Female| 45|          Beauty|       1|            30|          30|      3.0|       40-50|\n",
            "|             7|2023-03-13|    CUST007|  Male| 46|        Clothing|       2|            25|          50|      3.0|       40-50|\n",
            "|             8|2023-02-22|    CUST008|  Male| 30|     Electronics|       4|            25|         100|      2.0|       30-40|\n",
            "|             9|2023-12-13|    CUST009|  Male| 63|     Electronics|       2|           300|         600|      5.0|       60-70|\n",
            "|            10|2023-10-07|    CUST010|Female| 52|        Clothing|       4|            50|         200|      4.0|       50-60|\n",
            "|            11|2023-02-14|    CUST011|  Male| 23|        Clothing|       2|            50|         100|      1.0|       20-30|\n",
            "|            12|2023-10-30|    CUST012|  Male| 35|          Beauty|       3|            25|          75|      2.0|       30-40|\n",
            "|            13|2023-08-05|    CUST013|  Male| 22|     Electronics|       3|           500|        1500|      1.0|       20-30|\n",
            "|            14|2023-01-17|    CUST014|  Male| 64|        Clothing|       4|            30|         120|      5.0|       60-70|\n",
            "|            15|2023-01-16|    CUST015|Female| 42|     Electronics|       4|           500|        2000|      3.0|       40-50|\n",
            "|            16|2023-02-17|    CUST016|  Male| 19|        Clothing|       3|           500|        1500|      0.0|       10-20|\n",
            "|            17|2023-04-22|    CUST017|Female| 27|        Clothing|       4|            25|         100|      1.0|       20-30|\n",
            "|            18|2023-04-30|    CUST018|Female| 47|     Electronics|       2|            25|          50|      3.0|       40-50|\n",
            "|            19|2023-09-16|    CUST019|Female| 62|        Clothing|       2|            25|          50|      5.0|       60-70|\n",
            "|            20|2023-11-05|    CUST020|  Male| 22|        Clothing|       3|           300|         900|      1.0|       20-30|\n",
            "+--------------+----------+-----------+------+---+----------------+--------+--------------+------------+---------+------------+\n",
            "only showing top 20 rows\n",
            "\n"
          ]
        }
      ]
    },
    {
      "cell_type": "code",
      "source": [
        "# Create a chart for age category vs. sales\n",
        "sales_by_age_category = labeled_df.groupBy('Age Category').agg(sum('Total Amount').alias('Total Sales'))\n",
        "sales_by_age_category.orderBy(desc('Age Category')).show()"
      ],
      "metadata": {
        "colab": {
          "base_uri": "https://localhost:8080/"
        },
        "id": "nlMy89rdbDfo",
        "outputId": "1c977d2f-1f4c-44d1-87f9-d41446076898"
      },
      "execution_count": 12,
      "outputs": [
        {
          "output_type": "stream",
          "name": "stdout",
          "text": [
            "+------------+-----------+\n",
            "|Age Category|Total Sales|\n",
            "+------------+-----------+\n",
            "|       60-70|      44815|\n",
            "|       50-60|      98340|\n",
            "|       40-50|      93365|\n",
            "|       30-40|      96325|\n",
            "|       20-30|      97070|\n",
            "|       10-20|      26085|\n",
            "+------------+-----------+\n",
            "\n"
          ]
        }
      ]
    }
  ]
}
